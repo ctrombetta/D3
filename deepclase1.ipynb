{
  "nbformat": 4,
  "nbformat_minor": 0,
  "metadata": {
    "colab": {
      "name": "clase1.ipynb",
      "provenance": [],
      "collapsed_sections": [],
      "authorship_tag": "ABX9TyOynJVzu6m2ArWKSNwvj82v",
      "include_colab_link": true
    },
    "kernelspec": {
      "name": "python3",
      "display_name": "Python 3"
    }
  },
  "cells": [
    {
      "cell_type": "markdown",
      "metadata": {
        "id": "view-in-github",
        "colab_type": "text"
      },
      "source": [
        "<a href=\"https://colab.research.google.com/github/ctrombetta/D3/blob/gh-pages/deepclase1.ipynb\" target=\"_parent\"><img src=\"https://colab.research.google.com/assets/colab-badge.svg\" alt=\"Open In Colab\"/></a>"
      ]
    },
    {
      "cell_type": "code",
      "metadata": {
        "id": "psKoy8_GyZ0h",
        "colab_type": "code",
        "colab": {}
      },
      "source": [
        "lista_1 = {1,2,3,4,5}"
      ],
      "execution_count": 21,
      "outputs": []
    },
    {
      "cell_type": "code",
      "metadata": {
        "id": "sVexUT5MyoHt",
        "colab_type": "code",
        "colab": {
          "base_uri": "https://localhost:8080/",
          "height": 34
        },
        "outputId": "24aa916b-087d-4046-88c8-d256d3b1496b"
      },
      "source": [
        "lista_1"
      ],
      "execution_count": 22,
      "outputs": [
        {
          "output_type": "execute_result",
          "data": {
            "text/plain": [
              "{1, 2, 3, 4, 5}"
            ]
          },
          "metadata": {
            "tags": []
          },
          "execution_count": 22
        }
      ]
    },
    {
      "cell_type": "code",
      "metadata": {
        "id": "LIVYA42My0ad",
        "colab_type": "code",
        "colab": {
          "base_uri": "https://localhost:8080/",
          "height": 34
        },
        "outputId": "fbbda1a1-3e22-4263-af4d-b5bcb37ed42d"
      },
      "source": [
        "print (lista_1)"
      ],
      "execution_count": 23,
      "outputs": [
        {
          "output_type": "stream",
          "text": [
            "{1, 2, 3, 4, 5}\n"
          ],
          "name": "stdout"
        }
      ]
    },
    {
      "cell_type": "code",
      "metadata": {
        "id": "zMxaCN5azIf-",
        "colab_type": "code",
        "colab": {
          "base_uri": "https://localhost:8080/",
          "height": 34
        },
        "outputId": "501517e0-6e93-451c-c03d-e96332bbb4be"
      },
      "source": [
        "lista_1"
      ],
      "execution_count": 24,
      "outputs": [
        {
          "output_type": "execute_result",
          "data": {
            "text/plain": [
              "{1, 2, 3, 4, 5}"
            ]
          },
          "metadata": {
            "tags": []
          },
          "execution_count": 24
        }
      ]
    },
    {
      "cell_type": "markdown",
      "metadata": {
        "id": "oRWnYWz80bQA",
        "colab_type": "text"
      },
      "source": [
        "# **Listas en Phyton**"
      ]
    },
    {
      "cell_type": "code",
      "metadata": {
        "id": "el_up0lr1Pyu",
        "colab_type": "code",
        "colab": {
          "base_uri": "https://localhost:8080/",
          "height": 34
        },
        "outputId": "907bfea8-8561-48bb-d246-d500927b4dc8"
      },
      "source": [
        "!ls"
      ],
      "execution_count": 4,
      "outputs": [
        {
          "output_type": "stream",
          "text": [
            "sample_data\n"
          ],
          "name": "stdout"
        }
      ]
    },
    {
      "cell_type": "code",
      "metadata": {
        "id": "-gKFhLY34aiG",
        "colab_type": "code",
        "colab": {
          "base_uri": "https://localhost:8080/",
          "height": 35
        },
        "outputId": "bb6b80c2-b35e-4fd7-ff86-5964abaffdbf"
      },
      "source": [
        "!pwd"
      ],
      "execution_count": null,
      "outputs": [
        {
          "output_type": "stream",
          "text": [
            "/content\n"
          ],
          "name": "stdout"
        }
      ]
    },
    {
      "cell_type": "code",
      "metadata": {
        "id": "OGqfsQbG4rji",
        "colab_type": "code",
        "colab": {}
      },
      "source": [
        ""
      ],
      "execution_count": 4,
      "outputs": []
    },
    {
      "cell_type": "code",
      "metadata": {
        "id": "BlUI0ant43kI",
        "colab_type": "code",
        "colab": {
          "base_uri": "https://localhost:8080/",
          "height": 34
        },
        "outputId": "6514684f-2fa3-42f2-ec2e-1443b9076bc0"
      },
      "source": [
        "x1 = float(1)\n",
        "x2 = 2\n",
        "x1 + x2"
      ],
      "execution_count": 5,
      "outputs": [
        {
          "output_type": "execute_result",
          "data": {
            "text/plain": [
              "3.0"
            ]
          },
          "metadata": {
            "tags": []
          },
          "execution_count": 5
        }
      ]
    },
    {
      "cell_type": "code",
      "metadata": {
        "id": "hLdfVmLq9h6c",
        "colab_type": "code",
        "colab": {}
      },
      "source": [
        "lista_1 = [1, \"juan\", 1.4, 5]\n",
        "lista_2 = [2, \"marina\", 5, 8]\n",
        "lista_3 = lista_1 + lista_2"
      ],
      "execution_count": 30,
      "outputs": []
    },
    {
      "cell_type": "code",
      "metadata": {
        "id": "Zt8cHH57mYww",
        "colab_type": "code",
        "colab": {
          "base_uri": "https://localhost:8080/",
          "height": 34
        },
        "outputId": "f498ffe3-dee4-4744-98fc-8e64a7fb7c0b"
      },
      "source": [
        "print(lista_3)"
      ],
      "execution_count": 31,
      "outputs": [
        {
          "output_type": "stream",
          "text": [
            "[1, 'juan', 1.4, 5, 2, 'marina', 5, 8]\n"
          ],
          "name": "stdout"
        }
      ]
    },
    {
      "cell_type": "code",
      "metadata": {
        "id": "Ig43gOHXmhRy",
        "colab_type": "code",
        "colab": {
          "base_uri": "https://localhost:8080/",
          "height": 34
        },
        "outputId": "a9f9d79a-e5e7-4c79-bff7-fd8355e69343"
      },
      "source": [
        "lista_3[4]"
      ],
      "execution_count": 32,
      "outputs": [
        {
          "output_type": "execute_result",
          "data": {
            "text/plain": [
              "2"
            ]
          },
          "metadata": {
            "tags": []
          },
          "execution_count": 32
        }
      ]
    },
    {
      "cell_type": "code",
      "metadata": {
        "id": "W9AmHmTynXCN",
        "colab_type": "code",
        "colab": {
          "base_uri": "https://localhost:8080/",
          "height": 34
        },
        "outputId": "76605441-b812-4d9b-c372-1cd0d1837160"
      },
      "source": [
        "lista_3[2] = \"Claudia\"\n",
        "print(lista_3)"
      ],
      "execution_count": 33,
      "outputs": [
        {
          "output_type": "stream",
          "text": [
            "[1, 'juan', 'Claudia', 5, 2, 'marina', 5, 8]\n"
          ],
          "name": "stdout"
        }
      ]
    },
    {
      "cell_type": "code",
      "metadata": {
        "id": "erHLWUb6nrQp",
        "colab_type": "code",
        "colab": {
          "base_uri": "https://localhost:8080/",
          "height": 34
        },
        "outputId": "3025db1b-04c4-4e57-c46b-db225967210b"
      },
      "source": [
        "print(lista_3)"
      ],
      "execution_count": 35,
      "outputs": [
        {
          "output_type": "stream",
          "text": [
            "[1, 'juan', 'Claudia', 5, 2, 'marina', 5, 8]\n"
          ],
          "name": "stdout"
        }
      ]
    },
    {
      "cell_type": "code",
      "metadata": {
        "id": "D7RIaxJcqlUj",
        "colab_type": "code",
        "colab": {
          "base_uri": "https://localhost:8080/",
          "height": 85
        },
        "outputId": "07443995-da3c-45ed-dfa7-b36b65c26a83"
      },
      "source": [
        "lista_4 = lista_1\n",
        "print(lista_1)\n",
        "print(lista_4)\n",
        "lista_4[0] = \"Claudia\"\n",
        "print(lista_1)\n",
        "print(lista_4)"
      ],
      "execution_count": 37,
      "outputs": [
        {
          "output_type": "stream",
          "text": [
            "[1, 'juan', 1.4, 5]\n",
            "[1, 'juan', 1.4, 5]\n",
            "['Claudia', 'juan', 1.4, 5]\n",
            "['Claudia', 'juan', 1.4, 5]\n"
          ],
          "name": "stdout"
        }
      ]
    },
    {
      "cell_type": "code",
      "metadata": {
        "id": "K9XwwJ7pzmUB",
        "colab_type": "code",
        "colab": {
          "base_uri": "https://localhost:8080/",
          "height": 68
        },
        "outputId": "3c90f1d9-ceb8-4190-c8ec-76cda3f16a54"
      },
      "source": [
        "lista_4 = lista_1[0:3]\n",
        "print(lista_4)\n",
        "print(lista_1)\n",
        "lista_4.append(\"Trombetta\")\n",
        "print(lista_4)"
      ],
      "execution_count": 47,
      "outputs": [
        {
          "output_type": "stream",
          "text": [
            "['Claudia', 'juan', 1.4]\n",
            "['Claudia', 'juan', 1.4, 5]\n",
            "['Claudia', 'juan', 1.4, 'Trombetta']\n"
          ],
          "name": "stdout"
        }
      ]
    }
  ]
}